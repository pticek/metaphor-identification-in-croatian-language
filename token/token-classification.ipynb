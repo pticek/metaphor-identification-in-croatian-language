{
 "cells": [
  {
   "cell_type": "markdown",
   "id": "8592f22b",
   "metadata": {},
   "source": [
    "# Klasifikacija tokena"
   ]
  },
  {
   "cell_type": "markdown",
   "id": "232b3c86",
   "metadata": {},
   "source": [
    "## Uvoz potrebnih biblioteka"
   ]
  },
  {
   "cell_type": "code",
   "execution_count": null,
   "id": "bdeb2af7",
   "metadata": {
    "execution": {
     "iopub.execute_input": "2025-06-01T19:02:48.078242Z",
     "iopub.status.busy": "2025-06-01T19:02:48.077499Z",
     "iopub.status.idle": "2025-06-01T19:02:51.417813Z",
     "shell.execute_reply": "2025-06-01T19:02:51.416967Z",
     "shell.execute_reply.started": "2025-06-01T19:02:48.078220Z"
    }
   },
   "outputs": [],
   "source": [
    "from datasets import load_dataset\n",
    "from datasets import Features, ClassLabel, Sequence, Value\n",
    "from datasets import Dataset, DatasetDict\n",
    "from datasets.arrow_dataset import NonExistentDatasetError\n",
    "\n",
    "from ast import literal_eval\n",
    "\n",
    "import pandas as pd\n",
    "import numpy as np\n",
    "import random\n",
    "\n",
    "from sklearn.metrics import classification_report\n",
    "from sklearn.metrics import precision_recall_fscore_support\n",
    "from sklearn.metrics import roc_auc_score, roc_curve \n",
    "import matplotlib.pyplot as plt \n",
    "\n",
    "from transformers import AutoTokenizer, AutoModel, AutoConfig, AutoModelForTokenClassification, Trainer, TrainingArguments, DataCollatorForTokenClassification\n",
    "from transformers.modeling_outputs import TokenClassifierOutput\n",
    "\n",
    "import torch\n",
    "import torch.nn as nn\n",
    "from torch.nn.functional import cross_entropy\n",
    "\n",
    "import os\n",
    "os.environ[\"TOKENIZERS_PARALLELISM\"] = \"false\"\n",
    "os.environ[\"WANDB_DISABLED\"] = \"true\""
   ]
  },
  {
   "cell_type": "markdown",
   "id": "300ad943",
   "metadata": {},
   "source": [
    "## Definiranje argumenata, odabir jezičnog modela"
   ]
  },
  {
   "cell_type": "code",
   "execution_count": null,
   "id": "9236e1fb",
   "metadata": {
    "execution": {
     "iopub.execute_input": "2025-06-01T19:02:51.419442Z",
     "iopub.status.busy": "2025-06-01T19:02:51.419040Z",
     "iopub.status.idle": "2025-06-01T19:02:51.425580Z",
     "shell.execute_reply": "2025-06-01T19:02:51.424436Z",
     "shell.execute_reply.started": "2025-06-01T19:02:51.419422Z"
    }
   },
   "outputs": [],
   "source": [
    "# Slučajni broj\n",
    "seed = 16\n",
    "random.seed(seed)\n",
    "np.random.seed(seed)\n",
    "torch.manual_seed(seed)\n",
    "torch.cuda.manual_seed_all(seed)\n",
    "\n",
    "# Značajke skupa podataka\n",
    "label_names = [\"0\", \"1\"]\n",
    "features = Features({\"id\": Value(\"int64\"),\n",
    "                    \"tokens\": Sequence(Value(\"string\")),\n",
    "                     \"label\": Sequence(ClassLabel(num_classes=2, names=label_names)),\n",
    "                     \"pos\": Sequence(Value(\"string\"))\n",
    "                      })\n",
    "\n",
    "# Odabir jezičnog modela i parametri modela\n",
    "# EMBEDDIA/crosloengual-bert, bert-base-multilingual-uncased, classla/bcms-bertic, classla/xlm-r-bertic, xlm-roberta-base, xlm-roberta-large\n",
    "model_ckpt = \"classla/xlm-r-bertic\"\n",
    "train_batch_size = 32\n",
    "eval_batch_size = 16\n",
    "learning_rate = 3e-5\n",
    "num_train_epoch = 3\n",
    "warmup_steps = 0"
   ]
  },
  {
   "cell_type": "markdown",
   "id": "aa7c075e",
   "metadata": {},
   "source": [
    "## Učitavanje skupa podataka"
   ]
  },
  {
   "cell_type": "code",
   "execution_count": null,
   "id": "c714ce0e",
   "metadata": {
    "execution": {
     "iopub.execute_input": "2025-06-01T19:02:51.427391Z",
     "iopub.status.busy": "2025-06-01T19:02:51.427123Z",
     "iopub.status.idle": "2025-06-01T19:02:51.805735Z",
     "shell.execute_reply": "2025-06-01T19:02:51.805101Z",
     "shell.execute_reply.started": "2025-06-01T19:02:51.427369Z"
    }
   },
   "outputs": [],
   "source": [
    "# Odabir skupa podataka za treniranje i testiranje\n",
    "df_train = pd.read_csv('data/fold_7/train_7.csv', encoding=\"UTF-8\")\n",
    "df_train[\"tokens\"] = df_train[\"tokens\"].apply(literal_eval)\n",
    "df_train[\"label\"] = df_train[\"label\"].apply(literal_eval)\n",
    "df_train[\"pos\"] = df_train[\"pos\"].apply(literal_eval)\n",
    "\n",
    "df_test = pd.read_csv('data/fold_7/test_7.csv', encoding=\"UTF-8\")\n",
    "df_test[\"tokens\"] = df_test[\"tokens\"].apply(literal_eval)\n",
    "df_test[\"label\"] = df_test[\"label\"].apply(literal_eval)\n",
    "df_test[\"pos\"] = df_test[\"pos\"].apply(literal_eval)\n",
    "\n",
    "dataset = DatasetDict({\n",
    "    \"train\": Dataset.from_pandas(df_train, features=features),\n",
    "    \"test\": Dataset.from_pandas(df_test, features=features)\n",
    "    })\n",
    "\n",
    "label_list = dataset[\"train\"].features[f\"label\"].feature.names\n",
    "print(dataset)"
   ]
  },
  {
   "cell_type": "markdown",
   "id": "f3905edc",
   "metadata": {},
   "source": [
    "## Tokenizacija skupa podataka"
   ]
  },
  {
   "cell_type": "code",
   "execution_count": null,
   "id": "95144bb3",
   "metadata": {
    "execution": {
     "iopub.execute_input": "2025-06-01T19:02:51.807239Z",
     "iopub.status.busy": "2025-06-01T19:02:51.807048Z",
     "iopub.status.idle": "2025-06-01T19:02:54.231144Z",
     "shell.execute_reply": "2025-06-01T19:02:54.230703Z",
     "shell.execute_reply.started": "2025-06-01T19:02:51.807223Z"
    }
   },
   "outputs": [],
   "source": [
    "tokenizer = AutoTokenizer.from_pretrained(model_ckpt)\n",
    "\n",
    "max_length = 235\n",
    "\n",
    "def tokenize_and_align_labels(examples):\n",
    "    tokenized_inputs = tokenizer(examples[\"tokens\"], is_split_into_words=True, padding=True, truncation=True, max_length=max_length)\n",
    "\n",
    "    labels = []\n",
    "    for i, label in enumerate(examples[f\"label\"]):\n",
    "        word_ids = tokenized_inputs.word_ids(batch_index=i)\n",
    "        previous_word_idx = None\n",
    "        label_ids = []\n",
    "        for word_idx in word_ids:\n",
    "            if word_idx is None:\n",
    "                label_ids.append(-100)\n",
    "            elif word_idx != previous_word_idx:\n",
    "                label_ids.append(label[word_idx])\n",
    "            else:\n",
    "                label_ids.append(-100) \n",
    "            previous_word_idx = word_idx\n",
    "        labels.append(label_ids)\n",
    "\n",
    "    tokenized_inputs[\"labels\"] = labels\n",
    "    return tokenized_inputs\n",
    "\n",
    "tokenized_dataset = dataset.map(tokenize_and_align_labels, batched=True, remove_columns=['tokens','label', 'pos'])\n",
    "\n",
    "data_collator = DataCollatorForTokenClassification(tokenizer=tokenizer)\n",
    "\n",
    "id2label = {\n",
    "    0: \"0\", \n",
    "    1: \"1\",\n",
    "}\n",
    "label2id = {\n",
    "    \"0\": 0,\n",
    "    \"1\": 1,\n",
    "}"
   ]
  },
  {
   "cell_type": "markdown",
   "id": "6a6dc887",
   "metadata": {},
   "source": [
    "## Izračun metrika i prikaz izvještaja klasifikacije"
   ]
  },
  {
   "cell_type": "code",
   "execution_count": null,
   "id": "b30bdfb7",
   "metadata": {
    "execution": {
     "iopub.execute_input": "2025-06-01T19:02:54.232529Z",
     "iopub.status.busy": "2025-06-01T19:02:54.231842Z",
     "iopub.status.idle": "2025-06-01T19:02:54.238842Z",
     "shell.execute_reply": "2025-06-01T19:02:54.238384Z",
     "shell.execute_reply.started": "2025-06-01T19:02:54.232509Z"
    }
   },
   "outputs": [],
   "source": [
    "def compute_metrics(p):\n",
    "    predictions, labels = p\n",
    "    predictions_for_roc = predictions.reshape(-1, predictions.shape[-1])\n",
    "    labels_for_roc = labels.reshape(-1)\n",
    "\n",
    "    valid_indices = labels_for_roc != -100\n",
    "    valid_labels_for_roc = labels_for_roc[valid_indices]\n",
    "    valid_predictions_for_roc = predictions_for_roc[valid_indices]\n",
    "\n",
    "    y_scores = valid_predictions_for_roc[:, 1] \n",
    "\n",
    "    # Izračun ROC-AUC\n",
    "    roc_auc = None\n",
    "    if len(np.unique(valid_labels_for_roc)) > 1:\n",
    "        try:\n",
    "            roc_auc = roc_auc_score(valid_labels_for_roc, y_scores)\n",
    "        except ValueError as e:\n",
    "            print(f\"Greška u izračunu ROC AUC: {e}\")\n",
    "            roc_auc = 0.0 \n",
    "\n",
    "    predictions = np.argmax(predictions, axis=2)\n",
    "\n",
    "    true_predictions = [\n",
    "        [label_list[p] for (p, l) in zip(prediction, label) if l != -100]\n",
    "        for prediction, label in zip(predictions, labels)\n",
    "    ]\n",
    "\n",
    "    true_labels = [\n",
    "        [label_list[l] for (p, l) in zip(prediction, label) if l != -100]\n",
    "        for prediction, label in zip(predictions, labels)\n",
    "    ]\n",
    "\n",
    "    flat_labels = [item for sublist in true_labels for item in sublist]\n",
    "    flat_predictions = [item for sublist in true_predictions for item in sublist]\n",
    "\n",
    "    print(classification_report(flat_labels, flat_predictions, digits=6))\n",
    "    precision, recall, f1, _ = precision_recall_fscore_support(flat_labels, flat_predictions, average=\"weighted\", zero_division=0)\n",
    "\n",
    "    metrics_results = {\n",
    "        \"precision\": precision,\n",
    "        \"recall\": recall,\n",
    "        \"f1\": f1\n",
    "    }\n",
    "    if roc_auc is not None:\n",
    "        metrics_results[\"roc_auc\"] = roc_auc\n",
    "\n",
    "    return metrics_results\n"
   ]
  },
  {
   "cell_type": "markdown",
   "id": "c00b78bf",
   "metadata": {},
   "source": [
    "## Treniranje i evaluacija modela za klasifikaciju tokena"
   ]
  },
  {
   "cell_type": "code",
   "execution_count": null,
   "id": "27d977b3",
   "metadata": {
    "execution": {
     "iopub.execute_input": "2025-06-01T19:02:54.240095Z",
     "iopub.status.busy": "2025-06-01T19:02:54.239515Z",
     "iopub.status.idle": "2025-06-01T19:07:48.656253Z",
     "shell.execute_reply": "2025-06-01T19:07:48.655807Z",
     "shell.execute_reply.started": "2025-06-01T19:02:54.240075Z"
    }
   },
   "outputs": [],
   "source": [
    "device = torch.device(\"cuda\" if torch.cuda.is_available() else \"cpu\")\n",
    "model = AutoModelForTokenClassification.from_pretrained(\n",
    "    model_ckpt,\n",
    "    num_labels=len(label_list), \n",
    "    id2label=id2label,\n",
    "    label2id=label2id\n",
    ").to(device)\n",
    "\n",
    "logging_steps = len(tokenized_dataset['train']) // train_batch_size\n",
    "model_name = f\"{model_ckpt}-finetuned-metaphor\"\n",
    "\n",
    "training_args = TrainingArguments(\n",
    "    output_dir = model_name,\n",
    "    overwrite_output_dir = True,\n",
    "    num_train_epochs = num_train_epoch,\n",
    "    learning_rate = learning_rate,\n",
    "    per_device_train_batch_size = train_batch_size,\n",
    "    per_device_eval_batch_size = eval_batch_size,\n",
    "    weight_decay = 0.01,\n",
    "    warmup_steps = warmup_steps,\n",
    "    evaluation_strategy = \"no\",\n",
    "    #save_strategy = \"epoch\",\n",
    "    disable_tqdm = False,\n",
    "    logging_steps = logging_steps,\n",
    "    push_to_hub = False,\n",
    "    log_level = \"error\",\n",
    "    #load_best_model_at_end = True,\n",
    "    metric_for_best_model = \"f1\",\n",
    "    greater_is_better = True,\n",
    "    seed = seed\n",
    ")\n",
    "\n",
    "trainer = Trainer(\n",
    "    model = model,\n",
    "    args = training_args,\n",
    "    compute_metrics = compute_metrics,\n",
    "    train_dataset = tokenized_dataset['train'],\n",
    "    eval_dataset = tokenized_dataset['test'], \n",
    "    data_collator = data_collator,\n",
    "    tokenizer = tokenizer\n",
    ")\n",
    "\n",
    "trainer.train();\n",
    "\n",
    "# Evaluacija modela za klasifikaciju tokena\n",
    "eval_results = trainer.evaluate()\n",
    "print(eval_results)\n"
   ]
  },
  {
   "cell_type": "markdown",
   "id": "71e7065a",
   "metadata": {},
   "source": [
    "## Prikaz krivulje ROC"
   ]
  },
  {
   "cell_type": "code",
   "execution_count": null,
   "id": "e2eb519d-bed9-46ae-aa0e-14b89decd172",
   "metadata": {
    "execution": {
     "iopub.execute_input": "2025-06-01T19:07:48.657435Z",
     "iopub.status.busy": "2025-06-01T19:07:48.657101Z",
     "iopub.status.idle": "2025-06-01T19:07:52.659075Z",
     "shell.execute_reply": "2025-06-01T19:07:52.658629Z",
     "shell.execute_reply.started": "2025-06-01T19:07:48.657415Z"
    }
   },
   "outputs": [],
   "source": [
    "# Krivulja ROC\n",
    "predictions_output = trainer.predict(tokenized_dataset['test'])\n",
    "logits = predictions_output.predictions\n",
    "labels = predictions_output.label_ids\n",
    "\n",
    "# Flatten predictions and labels, and filter out -100\n",
    "flat_logits = logits.reshape(-1, logits.shape[-1])\n",
    "flat_labels = labels.reshape(-1)\n",
    "\n",
    "valid_indices = flat_labels != -100\n",
    "valid_flat_labels = flat_labels[valid_indices]\n",
    "valid_flat_logits = flat_logits[valid_indices]\n",
    "\n",
    "y_scores = torch.softmax(torch.tensor(valid_flat_logits), dim=1)[:, 1].numpy()\n",
    "\n",
    "fpr, tpr, thresholds = roc_curve(valid_flat_labels, y_scores)\n",
    "roc_auc = eval_results.get('eval_roc_auc', None) \n",
    "\n",
    "plt.figure(figsize=(10, 8))\n",
    "plt.plot(fpr, tpr, color='darkorange', lw=2, label=f'ROC krivulja (AUC = {roc_auc:.4f})' if roc_auc else 'ROC curve')\n",
    "plt.plot([0, 1], [0, 1], color='navy', lw=2, linestyle='--')\n",
    "plt.xlim([0.0, 1.0])\n",
    "plt.ylim([0.0, 1.05])\n",
    "plt.xlabel('Stopa lažno pozitivnih rezultata')\n",
    "plt.ylabel('Stopa točno pozitivnih rezultata')\n",
    "plt.title('Krivulja ROC - stopa učenja 3e-5')\n",
    "plt.legend(loc=\"lower right\")\n",
    "#plt.savefig('roc_curve_3e5-7.png') \n",
    "plt.show()\n",
    "\n"
   ]
  },
  {
   "cell_type": "markdown",
   "id": "8ac0862a",
   "metadata": {},
   "source": [
    "## Analiza grešaka"
   ]
  },
  {
   "cell_type": "code",
   "execution_count": null,
   "id": "2d428480",
   "metadata": {
    "execution": {
     "iopub.execute_input": "2025-06-01T19:07:52.660130Z",
     "iopub.status.busy": "2025-06-01T19:07:52.659856Z",
     "iopub.status.idle": "2025-06-01T19:08:07.135346Z",
     "shell.execute_reply": "2025-06-01T19:08:07.134603Z",
     "shell.execute_reply.started": "2025-06-01T19:07:52.660113Z"
    }
   },
   "outputs": [],
   "source": [
    "def forward_pass_with_label(batch):\n",
    "    # Convert dict of lists to list of dicts suitable for data collator\n",
    "    features = [dict(zip(batch, t)) for t in zip(*batch.values())]\n",
    "    # Pad inputs and labels and put all tensors on device\n",
    "    batch = data_collator(features)\n",
    "    id = batch[\"id\"].to(device)\n",
    "    input_ids = batch[\"input_ids\"].to(device)\n",
    "    attention_mask = batch[\"attention_mask\"].to(device)\n",
    "    labels = batch[\"labels\"].to(device)\n",
    "    with torch.no_grad():\n",
    "        # Pass data through model\n",
    "        output = trainer.model(input_ids, attention_mask)\n",
    "        # Logit.size: [batch_size, sequence_length, classes]\n",
    "        # Predict class with largest logit value on classes axis\n",
    "        predicted_label = torch.argmax(output.logits, axis=-1).cpu().numpy()\n",
    "\n",
    "    return {\"predicted_label\": predicted_label}\n",
    "\n",
    "\n",
    "# hide_output\n",
    "valid_set = tokenized_dataset[\"test\"]\n",
    "valid_set = valid_set.map(forward_pass_with_label, batched=True, batch_size=32)\n",
    "df = valid_set.to_pandas()\n",
    "\n",
    "# hide_output\n",
    "id2label[-100] = \"0\"\n",
    "df[\"input_tokens\"] = df[\"input_ids\"].apply(\n",
    "    lambda x: tokenizer.convert_ids_to_tokens(x))\n",
    "df[\"predicted_label\"] = df[\"predicted_label\"].apply(\n",
    "    lambda x: [id2label[i] for i in x])\n",
    "df[\"labels\"] = df[\"labels\"].apply(\n",
    "    lambda x: [id2label[i] for i in x])\n",
    "df['predicted_label'] = df.apply(\n",
    "    lambda x: x['predicted_label'][:len(x['input_ids'])], axis=1)\n",
    "\n",
    "df.to_csv('results/xlm-r-bertic-7-3e5.csv')\n"
   ]
  },
  {
   "cell_type": "markdown",
   "id": "1f0f1a5b",
   "metadata": {},
   "source": [
    "## Ispis broja parametara modela"
   ]
  },
  {
   "cell_type": "code",
   "execution_count": null,
   "id": "00cd8a5f-a854-4a3c-b00b-96177900931f",
   "metadata": {
    "execution": {
     "iopub.execute_input": "2025-06-01T19:08:07.136650Z",
     "iopub.status.busy": "2025-06-01T19:08:07.136455Z",
     "iopub.status.idle": "2025-06-01T19:08:07.143810Z",
     "shell.execute_reply": "2025-06-01T19:08:07.142957Z",
     "shell.execute_reply.started": "2025-06-01T19:08:07.136633Z"
    }
   },
   "outputs": [],
   "source": [
    "total_params = sum(\n",
    "\tparam.numel() for param in model.parameters()\n",
    ")\n",
    "\n",
    "print(f\"Broj parametara modela: {total_params}\")"
   ]
  }
 ],
 "metadata": {
  "kernelspec": {
   "display_name": "Python 3 (ipykernel)",
   "language": "python",
   "name": "python3"
  },
  "language_info": {
   "codemirror_mode": {
    "name": "ipython",
    "version": 3
   },
   "file_extension": ".py",
   "mimetype": "text/x-python",
   "name": "python",
   "nbconvert_exporter": "python",
   "pygments_lexer": "ipython3",
   "version": "3.9.10"
  }
 },
 "nbformat": 4,
 "nbformat_minor": 5
}
