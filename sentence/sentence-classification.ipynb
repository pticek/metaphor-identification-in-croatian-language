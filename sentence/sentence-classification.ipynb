{
 "cells": [
  {
   "cell_type": "markdown",
   "id": "1421fb82",
   "metadata": {},
   "source": [
    "# Klasifikacija rečenica"
   ]
  },
  {
   "cell_type": "markdown",
   "id": "0a742d35",
   "metadata": {},
   "source": [
    "## Uvoz potrebnih biblioteka"
   ]
  },
  {
   "cell_type": "code",
   "execution_count": null,
   "id": "3cb9ca9d",
   "metadata": {
    "execution": {
     "iopub.execute_input": "2025-06-01T19:25:21.621203Z",
     "iopub.status.busy": "2025-06-01T19:25:21.620565Z",
     "iopub.status.idle": "2025-06-01T19:25:24.978784Z",
     "shell.execute_reply": "2025-06-01T19:25:24.977953Z",
     "shell.execute_reply.started": "2025-06-01T19:25:21.621181Z"
    }
   },
   "outputs": [],
   "source": [
    "from transformers import AutoTokenizer, AutoModel, AutoModelForSequenceClassification, Trainer, TrainingArguments\n",
    "from datasets import load_dataset, Features, ClassLabel, Sequence, Value, Dataset, DatasetDict\n",
    "\n",
    "import pandas as pd\n",
    "import numpy as np\n",
    "import random\n",
    "\n",
    "import torch\n",
    "from torch.nn.functional import cross_entropy, softmax \n",
    "\n",
    "from sklearn.metrics import accuracy_score, f1_score, classification_report, roc_curve, auc \n",
    "import matplotlib.pyplot as plt \n",
    "\n",
    "import os\n",
    "os.environ[\"TOKENIZERS_PARALLELISM\"] = \"false\" \n",
    "os.environ[\"WANDB_DISABLED\"] = \"true\""
   ]
  },
  {
   "cell_type": "markdown",
   "id": "567a27d6",
   "metadata": {},
   "source": [
    "## Definiranje argumenata, odabir jezičnog modela"
   ]
  },
  {
   "cell_type": "code",
   "execution_count": null,
   "id": "a20da738",
   "metadata": {
    "execution": {
     "iopub.execute_input": "2025-06-01T19:25:24.980624Z",
     "iopub.status.busy": "2025-06-01T19:25:24.980180Z",
     "iopub.status.idle": "2025-06-01T19:25:25.052608Z",
     "shell.execute_reply": "2025-06-01T19:25:25.052166Z",
     "shell.execute_reply.started": "2025-06-01T19:25:24.980603Z"
    }
   },
   "outputs": [],
   "source": [
    "# Slučajni broj\n",
    "seed = 16\n",
    "random.seed(seed)\n",
    "np.random.seed(seed)\n",
    "torch.manual_seed(seed)\n",
    "if torch.cuda.is_available():\n",
    "    torch.cuda.manual_seed_all(seed)\n",
    "\n",
    "# Značajke skupa podataka \n",
    "label_names = [\"0\", \"1\"] \n",
    "features = Features({\n",
    "    \"id\": Value(\"int64\"),\n",
    "    \"sentence\": Value(\"string\"),\n",
    "    \"label\": ClassLabel(num_classes=len(label_names), names=label_names)\n",
    "})\n",
    "\n",
    "# Odabir jezičnog modela i parametri modela (Language model selection and parameters)\n",
    "# Other options mentioned in comments: EMBEDDIA/crosloengual-bert, bert-base-multilingual-uncased, classla/xlm-r-bertic, xlm-roberta-base, xlm-roberta-large\n",
    "model_ckpt = \"classla/xlm-r-bertic\" \n",
    "batch_size_train = 32\n",
    "batch_size_test = 16 \n",
    "learning_rate = 3e-5\n",
    "epoch = 3 "
   ]
  },
  {
   "cell_type": "markdown",
   "id": "bb697513",
   "metadata": {},
   "source": [
    "## Učitavanje skupa podataka"
   ]
  },
  {
   "cell_type": "code",
   "execution_count": null,
   "id": "9b7e6cc3",
   "metadata": {
    "execution": {
     "iopub.execute_input": "2025-06-01T19:25:25.054026Z",
     "iopub.status.busy": "2025-06-01T19:25:25.053336Z",
     "iopub.status.idle": "2025-06-01T19:25:25.082050Z",
     "shell.execute_reply": "2025-06-01T19:25:25.081529Z",
     "shell.execute_reply.started": "2025-06-01T19:25:25.053980Z"
    }
   },
   "outputs": [],
   "source": [
    "df_train = pd.read_csv('data/fold_1/train_1.csv', encoding=\"UTF-8\")\n",
    "df_test = pd.read_csv('data/fold_1/test_1.csv', encoding=\"UTF-8\")\n",
    "\n",
    "dataset = DatasetDict({\n",
    "    \"train\": Dataset.from_pandas(df_train, features=features),\n",
    "    \"test\": Dataset.from_pandas(df_test, features=features)\n",
    "})\n",
    "\n",
    "print(\"Dataset loaded:\")\n",
    "print(dataset)"
   ]
  },
  {
   "cell_type": "markdown",
   "id": "1dc21d00",
   "metadata": {},
   "source": [
    "## Tokenizacija skupa podataka"
   ]
  },
  {
   "cell_type": "code",
   "execution_count": null,
   "id": "94aa3e9a",
   "metadata": {
    "execution": {
     "iopub.execute_input": "2025-06-01T19:25:25.083314Z",
     "iopub.status.busy": "2025-06-01T19:25:25.082805Z",
     "iopub.status.idle": "2025-06-01T19:26:13.579268Z",
     "shell.execute_reply": "2025-06-01T19:26:13.578788Z",
     "shell.execute_reply.started": "2025-06-01T19:25:25.083295Z"
    }
   },
   "outputs": [],
   "source": [
    "device = torch.device(\"cuda\" if torch.cuda.is_available() else \"cpu\")\n",
    "tokenizer = AutoTokenizer.from_pretrained(model_ckpt)\n",
    "model = AutoModel.from_pretrained(model_ckpt).to(device)\n",
    "\n",
    "def tokenize(batch):\n",
    "  return tokenizer(batch[\"sentence\"], padding = True, truncation = False)\n",
    "\n",
    "dataset_encoded = dataset.map(tokenize, batched = True, batch_size = None)\n",
    "\n",
    "def extract_hidden_states(batch):\n",
    "  inputs = {k:v.to(device) for k,v in batch.items() if k in tokenizer.model_input_names}\n",
    "  with torch.no_grad():\n",
    "    last_hidden_state = model(**inputs).last_hidden_state\n",
    "  return {\"hidden_state\": last_hidden_state[:,0].cpu().numpy()}\n",
    "\n",
    "dataset_encoded.set_format(\"torch\", columns = [\"input_ids\", \"attention_mask\", \"label\"])\n",
    "\n",
    "dataset_hidden = dataset_encoded.map(extract_hidden_states, batched = True)"
   ]
  },
  {
   "cell_type": "markdown",
   "id": "2b865489",
   "metadata": {},
   "source": [
    "## Izračun metrika klasifikatora"
   ]
  },
  {
   "cell_type": "code",
   "execution_count": null,
   "id": "a39e5ced",
   "metadata": {
    "execution": {
     "iopub.execute_input": "2025-06-01T19:26:13.581158Z",
     "iopub.status.busy": "2025-06-01T19:26:13.580569Z",
     "iopub.status.idle": "2025-06-01T19:26:13.584474Z",
     "shell.execute_reply": "2025-06-01T19:26:13.584014Z",
     "shell.execute_reply.started": "2025-06-01T19:26:13.581137Z"
    }
   },
   "outputs": [],
   "source": [
    "def compute_metrics(pred):\n",
    "  labels = pred.label_ids\n",
    "  preds = pred.predictions.argmax(-1)\n",
    "  f1 = f1_score(labels, preds, average=\"weighted\")\n",
    "  acc = accuracy_score(labels, preds)\n",
    "  print(classification_report(labels, preds, digits=6))\n",
    "  return {\"accuracy\": acc, \"f1\": f1}"
   ]
  },
  {
   "cell_type": "markdown",
   "id": "744e57d8",
   "metadata": {},
   "source": [
    "## Treniranje i evaluacija modela"
   ]
  },
  {
   "cell_type": "code",
   "execution_count": null,
   "id": "3d03a408",
   "metadata": {
    "execution": {
     "iopub.execute_input": "2025-06-01T19:26:13.587246Z",
     "iopub.status.busy": "2025-06-01T19:26:13.586720Z",
     "iopub.status.idle": "2025-06-01T19:31:07.134635Z",
     "shell.execute_reply": "2025-06-01T19:31:07.134025Z",
     "shell.execute_reply.started": "2025-06-01T19:26:13.587228Z"
    }
   },
   "outputs": [],
   "source": [
    "num_labels = 2\n",
    "model = AutoModelForSequenceClassification.from_pretrained(model_ckpt, num_labels = num_labels).to(device)\n",
    "\n",
    "logging_steps = len(dataset_encoded[\"train\"]) // batch_size_train\n",
    "model_name = f\"{model_ckpt}-finetuned-metaphor\"\n",
    "\n",
    "training_args = TrainingArguments(\n",
    "    output_dir = model_name,\n",
    "    num_train_epochs = epoch,\n",
    "    learning_rate = learning_rate,\n",
    "    per_device_train_batch_size = batch_size_train,\n",
    "    per_device_eval_batch_size = batch_size_test,\n",
    "    warmup_steps = 0,\n",
    "    weight_decay = 0.01,\n",
    "    evaluation_strategy = \"no\",\n",
    "    #save_strategy = \"epoch\",\n",
    "    #load_best_model_at_end=True,\n",
    "    metric_for_best_model=\"f1\",\n",
    "    greater_is_better=True,\n",
    "    disable_tqdm = False,\n",
    "    logging_steps = logging_steps,\n",
    "    push_to_hub = False,\n",
    "    log_level = \"error\",\n",
    "    seed=seed\n",
    ")\n",
    "\n",
    "trainer = Trainer(\n",
    "    model = model,\n",
    "    args = training_args,\n",
    "    compute_metrics = compute_metrics,\n",
    "    train_dataset = dataset_encoded[\"train\"],\n",
    "    #eval_dataset = dataset_encoded[\"validation\"],\n",
    "    tokenizer = tokenizer\n",
    ")\n",
    "\n",
    "trainer.train();\n",
    "\n",
    "trainer.evaluate(dataset_encoded['test'])"
   ]
  },
  {
   "cell_type": "markdown",
   "id": "267b0ba1",
   "metadata": {},
   "source": [
    "## Krivulja ROC"
   ]
  },
  {
   "cell_type": "code",
   "execution_count": null,
   "id": "9cfc521e",
   "metadata": {
    "execution": {
     "iopub.execute_input": "2025-06-01T19:38:21.651969Z",
     "iopub.status.busy": "2025-06-01T19:38:21.651451Z",
     "iopub.status.idle": "2025-06-01T19:38:22.660105Z",
     "shell.execute_reply": "2025-06-01T19:38:22.659038Z",
     "shell.execute_reply.started": "2025-06-01T19:38:21.651948Z"
    }
   },
   "outputs": [],
   "source": [
    "predictions_output = trainer.predict(dataset_encoded['test'])\n",
    "test_predictions_logits = predictions_output.predictions\n",
    "test_true_labels = predictions_output.label_ids\n",
    "\n",
    "test_probabilities = softmax(torch.tensor(test_predictions_logits), dim=-1).numpy()\n",
    "\n",
    "positive_class_index = label_names.index(\"1\") if \"1\" in label_names else 1\n",
    "y_scores = test_probabilities[:, positive_class_index]\n",
    "\n",
    "fpr, tpr, thresholds = roc_curve(test_true_labels, y_scores)\n",
    "roc_auc_value = auc(fpr, tpr) \n",
    "\n",
    "print(f\"AUC: {roc_auc_value:.4f}\")\n",
    "\n",
    "plt.figure(figsize=(10, 8))\n",
    "plt.plot(fpr, tpr, color='darkorange', lw=2, label=f'ROC krivulja (AUC = {roc_auc_value:.4f})')\n",
    "plt.plot([0, 1], [0, 1], color='navy', lw=2, linestyle='--')\n",
    "plt.xlim([0.0, 1.0])\n",
    "plt.ylim([0.0, 1.05])\n",
    "plt.xlabel('Stopa lažno pozitivnih rezultata')\n",
    "plt.ylabel('Stopa točno pozitivnih rezultata')\n",
    "plt.title('Krivulja ROC - stopa učenja 2e-5')\n",
    "plt.legend(loc=\"lower right\", fontsize=12)\n",
    "plt.grid(True)\n",
    "#plt.savefig(\"results/roc_auc_curve-3e5-1.png\") \n",
    "plt.show()"
   ]
  },
  {
   "cell_type": "markdown",
   "id": "21391564",
   "metadata": {},
   "source": [
    "## Analiza grešaka"
   ]
  },
  {
   "cell_type": "code",
   "execution_count": null,
   "id": "1a6c194f",
   "metadata": {
    "execution": {
     "iopub.execute_input": "2025-06-01T19:31:10.335619Z",
     "iopub.status.busy": "2025-06-01T19:31:10.335452Z",
     "iopub.status.idle": "2025-06-01T19:31:16.731377Z",
     "shell.execute_reply": "2025-06-01T19:31:16.730719Z",
     "shell.execute_reply.started": "2025-06-01T19:31:10.335601Z"
    }
   },
   "outputs": [],
   "source": [
    "def forward_pass_with_label(batch):\n",
    "  inputs = {k:v.to(device) for k,v in batch.items() if k in tokenizer.model_input_names}\n",
    "  with torch.no_grad():\n",
    "    output = model(**inputs)\n",
    "    pred_label = torch.argmax(output.logits, axis = -1)\n",
    "    loss = cross_entropy(output.logits, batch[\"label\"].to(device), reduction = \"none\")\n",
    "    return {\"loss\": loss.cpu().numpy(),\n",
    "            \"predicted_label\": pred_label.cpu().numpy()}\n",
    "\n",
    "dataset_encoded.set_format(\"torch\", columns = [\"input_ids\", \"attention_mask\", \"label\"])\n",
    "\n",
    "dataset_encoded[\"test\"] = dataset_encoded[\"test\"].map(forward_pass_with_label, batched = True, batch_size = 16)\n",
    "\n",
    "dataset_encoded.set_format(\"pandas\")\n",
    "cols = [\"id\",\"sentence\", \"label\", \"predicted_label\", \"loss\"]\n",
    "df_test = dataset_encoded[\"test\"][:][cols]\n",
    "df_test[\"label\"] = df_test[\"label\"]\n",
    "df_test[\"predicted_label\"] = (df_test[\"predicted_label\"])\n",
    "df_test[\"id\"] = df_test[\"id\"]\n",
    "\n",
    "df_test.to_csv(\"results/xlm-r-bertic-1-3e5.csv\")"
   ]
  },
  {
   "cell_type": "markdown",
   "id": "15c4c2bd",
   "metadata": {},
   "source": [
    "## Ispis broja parametara modela"
   ]
  },
  {
   "cell_type": "code",
   "execution_count": null,
   "id": "a2c6d542-f0e3-43c6-a561-8bc629a1bb27",
   "metadata": {
    "execution": {
     "iopub.execute_input": "2025-06-01T19:31:16.733736Z",
     "iopub.status.busy": "2025-06-01T19:31:16.733557Z",
     "iopub.status.idle": "2025-06-01T19:31:16.738961Z",
     "shell.execute_reply": "2025-06-01T19:31:16.738286Z",
     "shell.execute_reply.started": "2025-06-01T19:31:16.733719Z"
    }
   },
   "outputs": [],
   "source": [
    "total_params = sum(\n",
    "\tparam.numel() for param in model.parameters()\n",
    ")\n",
    "\n",
    "print(f\"Broj parametara modela: {total_params}\")"
   ]
  }
 ],
 "metadata": {
  "kernelspec": {
   "display_name": "Python 3 (ipykernel)",
   "language": "python",
   "name": "python3"
  },
  "language_info": {
   "codemirror_mode": {
    "name": "ipython",
    "version": 3
   },
   "file_extension": ".py",
   "mimetype": "text/x-python",
   "name": "python",
   "nbconvert_exporter": "python",
   "pygments_lexer": "ipython3",
   "version": "3.9.10"
  }
 },
 "nbformat": 4,
 "nbformat_minor": 5
}
